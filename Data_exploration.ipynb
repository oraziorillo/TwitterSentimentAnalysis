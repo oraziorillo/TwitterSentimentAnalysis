{
 "cells": [
  {
   "cell_type": "markdown",
   "metadata": {},
   "source": [
    "# Data exploration"
   ]
  },
  {
   "cell_type": "code",
   "execution_count": 3,
   "metadata": {},
   "outputs": [
    {
     "name": "stderr",
     "output_type": "stream",
     "text": [
      "/home/stefano/anaconda3/envs/tf-gpu/lib/python3.7/site-packages/tensorflow/python/framework/dtypes.py:526: FutureWarning: Passing (type, 1) or '1type' as a synonym of type is deprecated; in a future version of numpy, it will be understood as (type, (1,)) / '(1,)type'.\n",
      "  _np_qint8 = np.dtype([(\"qint8\", np.int8, 1)])\n",
      "/home/stefano/anaconda3/envs/tf-gpu/lib/python3.7/site-packages/tensorflow/python/framework/dtypes.py:527: FutureWarning: Passing (type, 1) or '1type' as a synonym of type is deprecated; in a future version of numpy, it will be understood as (type, (1,)) / '(1,)type'.\n",
      "  _np_quint8 = np.dtype([(\"quint8\", np.uint8, 1)])\n",
      "/home/stefano/anaconda3/envs/tf-gpu/lib/python3.7/site-packages/tensorflow/python/framework/dtypes.py:528: FutureWarning: Passing (type, 1) or '1type' as a synonym of type is deprecated; in a future version of numpy, it will be understood as (type, (1,)) / '(1,)type'.\n",
      "  _np_qint16 = np.dtype([(\"qint16\", np.int16, 1)])\n",
      "/home/stefano/anaconda3/envs/tf-gpu/lib/python3.7/site-packages/tensorflow/python/framework/dtypes.py:529: FutureWarning: Passing (type, 1) or '1type' as a synonym of type is deprecated; in a future version of numpy, it will be understood as (type, (1,)) / '(1,)type'.\n",
      "  _np_quint16 = np.dtype([(\"quint16\", np.uint16, 1)])\n",
      "/home/stefano/anaconda3/envs/tf-gpu/lib/python3.7/site-packages/tensorflow/python/framework/dtypes.py:530: FutureWarning: Passing (type, 1) or '1type' as a synonym of type is deprecated; in a future version of numpy, it will be understood as (type, (1,)) / '(1,)type'.\n",
      "  _np_qint32 = np.dtype([(\"qint32\", np.int32, 1)])\n",
      "/home/stefano/anaconda3/envs/tf-gpu/lib/python3.7/site-packages/tensorflow/python/framework/dtypes.py:535: FutureWarning: Passing (type, 1) or '1type' as a synonym of type is deprecated; in a future version of numpy, it will be understood as (type, (1,)) / '(1,)type'.\n",
      "  np_resource = np.dtype([(\"resource\", np.ubyte, 1)])\n"
     ]
    }
   ],
   "source": [
    "import pandas as pd\n",
    "import numpy as np\n",
    "from helpers import count_unique_words\n",
    "from gensim.models import Word2Vec\n",
    "import gensim"
   ]
  },
  {
   "cell_type": "code",
   "execution_count": 26,
   "metadata": {},
   "outputs": [],
   "source": [
    "df = pd.read_pickle(\"dataframes/full_df_cleaned_test_0_2.pickle\")"
   ]
  },
  {
   "cell_type": "code",
   "execution_count": 9,
   "metadata": {},
   "outputs": [],
   "source": [
    "chi2 = pd.read_pickle(\"dataframes/chi2_google_words.pickle\")"
   ]
  },
  {
   "cell_type": "code",
   "execution_count": 24,
   "metadata": {},
   "outputs": [],
   "source": [
    "chi2.set_index(\"word\", inplace=True)"
   ]
  },
  {
   "cell_type": "code",
   "execution_count": 25,
   "metadata": {},
   "outputs": [
    {
     "data": {
      "text/html": [
       "<div>\n",
       "<style scoped>\n",
       "    .dataframe tbody tr th:only-of-type {\n",
       "        vertical-align: middle;\n",
       "    }\n",
       "\n",
       "    .dataframe tbody tr th {\n",
       "        vertical-align: top;\n",
       "    }\n",
       "\n",
       "    .dataframe thead th {\n",
       "        text-align: right;\n",
       "    }\n",
       "</style>\n",
       "<table border=\"1\" class=\"dataframe\">\n",
       "  <thead>\n",
       "    <tr style=\"text-align: right;\">\n",
       "      <th></th>\n",
       "      <th>chi2</th>\n",
       "    </tr>\n",
       "    <tr>\n",
       "      <th>word</th>\n",
       "      <th></th>\n",
       "    </tr>\n",
       "  </thead>\n",
       "  <tbody>\n",
       "    <tr>\n",
       "      <th>follow</th>\n",
       "      <td>21973.469174</td>\n",
       "    </tr>\n",
       "    <tr>\n",
       "      <th>naked</th>\n",
       "      <td>21.476155</td>\n",
       "    </tr>\n",
       "    <tr>\n",
       "      <th>cheetah</th>\n",
       "      <td>1.080130</td>\n",
       "    </tr>\n",
       "    <tr>\n",
       "      <th>goodness</th>\n",
       "      <td>28.993678</td>\n",
       "    </tr>\n",
       "    <tr>\n",
       "      <th>sake</th>\n",
       "      <td>108.046105</td>\n",
       "    </tr>\n",
       "    <tr>\n",
       "      <th>...</th>\n",
       "      <td>...</td>\n",
       "    </tr>\n",
       "    <tr>\n",
       "      <th>worktops</th>\n",
       "      <td>1.000458</td>\n",
       "    </tr>\n",
       "    <tr>\n",
       "      <th>suckout</th>\n",
       "      <td>1.000458</td>\n",
       "    </tr>\n",
       "    <tr>\n",
       "      <th>shrinkwrap</th>\n",
       "      <td>1.000458</td>\n",
       "    </tr>\n",
       "    <tr>\n",
       "      <th>screwup</th>\n",
       "      <td>1.000458</td>\n",
       "    </tr>\n",
       "    <tr>\n",
       "      <th>depilated</th>\n",
       "      <td>0.999542</td>\n",
       "    </tr>\n",
       "  </tbody>\n",
       "</table>\n",
       "<p>66129 rows × 1 columns</p>\n",
       "</div>"
      ],
      "text/plain": [
       "                    chi2\n",
       "word                    \n",
       "follow      21973.469174\n",
       "naked          21.476155\n",
       "cheetah         1.080130\n",
       "goodness       28.993678\n",
       "sake          108.046105\n",
       "...                  ...\n",
       "worktops        1.000458\n",
       "suckout         1.000458\n",
       "shrinkwrap      1.000458\n",
       "screwup         1.000458\n",
       "depilated       0.999542\n",
       "\n",
       "[66129 rows x 1 columns]"
      ]
     },
     "execution_count": 25,
     "metadata": {},
     "output_type": "execute_result"
    }
   ],
   "source": [
    "chi2"
   ]
  },
  {
   "cell_type": "code",
   "execution_count": 5,
   "metadata": {
    "scrolled": true
   },
   "outputs": [
    {
     "data": {
      "text/html": [
       "<div>\n",
       "<style scoped>\n",
       "    .dataframe tbody tr th:only-of-type {\n",
       "        vertical-align: middle;\n",
       "    }\n",
       "\n",
       "    .dataframe tbody tr th {\n",
       "        vertical-align: top;\n",
       "    }\n",
       "\n",
       "    .dataframe thead th {\n",
       "        text-align: right;\n",
       "    }\n",
       "</style>\n",
       "<table border=\"1\" class=\"dataframe\">\n",
       "  <thead>\n",
       "    <tr style=\"text-align: right;\">\n",
       "      <th></th>\n",
       "      <th>sentence</th>\n",
       "      <th>label</th>\n",
       "    </tr>\n",
       "  </thead>\n",
       "  <tbody>\n",
       "    <tr>\n",
       "      <th>1621312</th>\n",
       "      <td>rt butt swollen #skaterprobz aww boo ! fall ? ...</td>\n",
       "      <td>-1</td>\n",
       "    </tr>\n",
       "    <tr>\n",
       "      <th>2306732</th>\n",
       "      <td>foot calf hip back ache .. i'm gettin old can'...</td>\n",
       "      <td>-1</td>\n",
       "    </tr>\n",
       "    <tr>\n",
       "      <th>1337824</th>\n",
       "      <td>episode zero stewie hell</td>\n",
       "      <td>-1</td>\n",
       "    </tr>\n",
       "    <tr>\n",
       "      <th>801564</th>\n",
       "      <td>lol well time always good ?</td>\n",
       "      <td>1</td>\n",
       "    </tr>\n",
       "    <tr>\n",
       "      <th>1950982</th>\n",
       "      <td>omg mum selling soccer aid ticket cry eye</td>\n",
       "      <td>-1</td>\n",
       "    </tr>\n",
       "  </tbody>\n",
       "</table>\n",
       "</div>"
      ],
      "text/plain": [
       "                                                  sentence  label\n",
       "1621312  rt butt swollen #skaterprobz aww boo ! fall ? ...     -1\n",
       "2306732  foot calf hip back ache .. i'm gettin old can'...     -1\n",
       "1337824                           episode zero stewie hell     -1\n",
       "801564                         lol well time always good ?      1\n",
       "1950982          omg mum selling soccer aid ticket cry eye     -1"
      ]
     },
     "execution_count": 5,
     "metadata": {},
     "output_type": "execute_result"
    }
   ],
   "source": [
    "df.head()"
   ]
  },
  {
   "cell_type": "code",
   "execution_count": 6,
   "metadata": {},
   "outputs": [],
   "source": [
    "my_value_counts = df.iloc[:].sentence.apply(lambda x: x.split()).explode().value_counts()"
   ]
  },
  {
   "cell_type": "code",
   "execution_count": 7,
   "metadata": {},
   "outputs": [
    {
     "name": "stdout",
     "output_type": "stream",
     "text": [
      "114478\n",
      "186356\n"
     ]
    }
   ],
   "source": [
    "print(len(my_value_counts[my_value_counts < 2]))\n",
    "print(len(my_value_counts))"
   ]
  },
  {
   "cell_type": "code",
   "execution_count": 31,
   "metadata": {},
   "outputs": [],
   "source": [
    "hashtags_count = 0\n",
    "hashtags = []\n",
    "for el in my_value_counts.index:\n",
    "    if str.startswith(el, \"#\"):\n",
    "        hashtags_count += 1\n",
    "        hashtags.append(el)"
   ]
  },
  {
   "cell_type": "code",
   "execution_count": 36,
   "metadata": {},
   "outputs": [
    {
     "data": {
      "text/plain": [
       "#blondemoment            9\n",
       "#theelites               9\n",
       "#61khunter               9\n",
       "#thankspep               9\n",
       "#kyuevilquotes           9\n",
       "                        ..\n",
       "#weloveshout             1\n",
       "#sinner                  1\n",
       "#letshaveahouseparty     1\n",
       "#foreverdisliked         1\n",
       "#favoritepartoftheday    1\n",
       "Name: sentence, Length: 92774, dtype: int64"
      ]
     },
     "execution_count": 36,
     "metadata": {},
     "output_type": "execute_result"
    }
   ],
   "source": [
    "my_value_counts[hashtags][my_value_counts<10]"
   ]
  },
  {
   "cell_type": "code",
   "execution_count": 6,
   "metadata": {},
   "outputs": [],
   "source": [
    "df_new = df.sentence.apply(lambda x: \" \".join([el if my_value_counts[el]>1 else \"\" for el in x.split()]))"
   ]
  },
  {
   "cell_type": "code",
   "execution_count": 7,
   "metadata": {},
   "outputs": [],
   "source": [
    "df.sentence = df_new"
   ]
  },
  {
   "cell_type": "code",
   "execution_count": 8,
   "metadata": {},
   "outputs": [],
   "source": [
    "w2v_model = gensim.models.KeyedVectors.load_word2vec_format(\"models/GoogleNews-vectors-negative300.bin\", binary=True)"
   ]
  },
  {
   "cell_type": "code",
   "execution_count": 27,
   "metadata": {},
   "outputs": [
    {
     "data": {
      "text/plain": [
       "186357"
      ]
     },
     "execution_count": 27,
     "metadata": {},
     "output_type": "execute_result"
    }
   ],
   "source": [
    "unique_words = df['sentence'].apply(lambda x: x.split()).explode().unique()\n",
    "len(unique_words)"
   ]
  },
  {
   "cell_type": "code",
   "execution_count": 28,
   "metadata": {
    "scrolled": false
   },
   "outputs": [
    {
     "name": "stderr",
     "output_type": "stream",
     "text": [
      "/home/stefano/anaconda3/envs/tf-gpu/lib/python3.7/site-packages/ipykernel_launcher.py:1: DeprecationWarning: Call to deprecated `wv` (Attribute will be removed in 4.0.0, use self instead).\n",
      "  \"\"\"Entry point for launching an IPython kernel.\n"
     ]
    },
    {
     "name": "stdout",
     "output_type": "stream",
     "text": [
      "CPU times: user 6.8 s, sys: 0 ns, total: 6.8 s\n",
      "Wall time: 6.82 s\n"
     ]
    }
   ],
   "source": [
    "%time df_new = df['sentence'].apply(lambda x: \" \".join([el if el in w2v_model.wv.vocab else \"\" for el in x.split()]))"
   ]
  },
  {
   "cell_type": "code",
   "execution_count": 29,
   "metadata": {},
   "outputs": [
    {
     "data": {
      "text/plain": [
       "1621312             rt butt swollen  aww boo  fall  bruised \n",
       "2306732    foot calf hip back ache   gettin old can't roc...\n",
       "1337824                                   episode zero  hell\n",
       "801564                            lol well time always good \n",
       "1950982            omg mum selling soccer aid ticket cry eye\n",
       "                                 ...                        \n",
       "1417173    video league legend ip cheat  patch please wat...\n",
       "1373765                           finshed chance better  :/ \n",
       "790399                         want follow back  lunch break\n",
       "85724                           know   we're singing chamber\n",
       "1289016            im soo sorry  grandpa  even  happen ago  \n",
       "Name: sentence, Length: 500000, dtype: object"
      ]
     },
     "execution_count": 29,
     "metadata": {},
     "output_type": "execute_result"
    }
   ],
   "source": [
    "df_new"
   ]
  },
  {
   "cell_type": "code",
   "execution_count": 30,
   "metadata": {},
   "outputs": [
    {
     "name": "stdout",
     "output_type": "stream",
     "text": [
      "                                                  sentence  label\n",
      "1621312           rt butt swollen  aww boo  fall  bruised      -1\n",
      "2306732  foot calf hip back ache   gettin old can't roc...     -1\n",
      "1337824                                 episode zero  hell     -1\n",
      "801564                          lol well time always good       1\n",
      "1950982          omg mum selling soccer aid ticket cry eye     -1\n",
      "...                                                    ...    ...\n",
      "1417173  video league legend ip cheat  patch please wat...     -1\n",
      "1373765                         finshed chance better  :/      -1\n",
      "790399                       want follow back  lunch break      1\n",
      "85724                         know   we're singing chamber      1\n",
      "1289016          im soo sorry  grandpa  even  happen ago       -1\n",
      "\n",
      "[500000 rows x 2 columns]\n"
     ]
    }
   ],
   "source": [
    "df.sentence = df_new\n",
    "print(df)"
   ]
  },
  {
   "cell_type": "code",
   "execution_count": 14,
   "metadata": {
    "scrolled": true
   },
   "outputs": [
    {
     "data": {
      "text/plain": [
       "1939"
      ]
     },
     "execution_count": 14,
     "metadata": {},
     "output_type": "execute_result"
    }
   ],
   "source": [
    "len(df[df.sentence == '']) "
   ]
  },
  {
   "cell_type": "code",
   "execution_count": 32,
   "metadata": {},
   "outputs": [],
   "source": [
    "df_new = df['sentence'].apply(lambda x: \" \".join(\" \".join(\n",
    "    [el if\n",
    "         el in chi2.index and not chi2.loc[el].isna()[0]\n",
    "     else \"\" \n",
    "     for el in x.split()]).split() )) # Second split is used to remove multiple spaces"
   ]
  },
  {
   "cell_type": "code",
   "execution_count": 33,
   "metadata": {},
   "outputs": [],
   "source": [
    "df.sentence = df_new"
   ]
  },
  {
   "cell_type": "code",
   "execution_count": 35,
   "metadata": {
    "scrolled": true
   },
   "outputs": [
    {
     "data": {
      "text/plain": [
       "43637"
      ]
     },
     "execution_count": 35,
     "metadata": {},
     "output_type": "execute_result"
    }
   ],
   "source": [
    "unique_words = df['sentence'].apply(lambda x: x.split()).explode().unique()\n",
    "len(unique_words)"
   ]
  },
  {
   "cell_type": "code",
   "execution_count": 36,
   "metadata": {},
   "outputs": [
    {
     "data": {
      "text/plain": [
       "5376"
      ]
     },
     "execution_count": 36,
     "metadata": {},
     "output_type": "execute_result"
    }
   ],
   "source": [
    "len(df[df.sentence == '']) "
   ]
  },
  {
   "cell_type": "code",
   "execution_count": 40,
   "metadata": {},
   "outputs": [],
   "source": [
    "new_value_counts = df.iloc[:]['sentence'].apply(lambda x: x.split()).explode().value_counts()"
   ]
  },
  {
   "cell_type": "code",
   "execution_count": 42,
   "metadata": {},
   "outputs": [
    {
     "data": {
      "text/plain": [
       "screensavers    1\n",
       "implicitly      1\n",
       "yomp            1\n",
       "globale         1\n",
       "antigravity     1\n",
       "               ..\n",
       "hepatic         1\n",
       "samll           1\n",
       "shedule         1\n",
       "nannying        1\n",
       "postmistress    1\n",
       "Name: sentence, Length: 13095, dtype: int64"
      ]
     },
     "execution_count": 42,
     "metadata": {},
     "output_type": "execute_result"
    }
   ],
   "source": [
    "new_value_counts[new_value_counts==1]"
   ]
  },
  {
   "cell_type": "code",
   "execution_count": 14,
   "metadata": {},
   "outputs": [],
   "source": [
    "df.to_pickle(\"dataframes/dataframe_train_0_2_google.pickle\")"
   ]
  }
 ],
 "metadata": {
  "kernelspec": {
   "display_name": "Python 3",
   "language": "python",
   "name": "python3"
  },
  "language_info": {
   "codemirror_mode": {
    "name": "ipython",
    "version": 3
   },
   "file_extension": ".py",
   "mimetype": "text/x-python",
   "name": "python",
   "nbconvert_exporter": "python",
   "pygments_lexer": "ipython3",
   "version": "3.7.5"
  }
 },
 "nbformat": 4,
 "nbformat_minor": 2
}
